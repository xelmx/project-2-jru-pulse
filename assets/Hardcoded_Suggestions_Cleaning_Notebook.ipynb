{
  "cells": [
    {
      "cell_type": "markdown",
      "metadata": {},
      "source": [
        "# Suggestions Cleaning Notebook\n",
        "This notebook demonstrates cleaning of feedback suggestions for sentiment analysis."
      ]
    },
    {
      "cell_type": "code",
      "execution_count": null,
      "metadata": {},
      "outputs": [],
      "source": [
        "# Step 1: Sample data (replace this with your actual import step)\n",
        "import pandas as pd\n",
        "\n",
        "suggestions = [\n",
        "    \"No\", \"n/a\\r\\n\", \"I don\\'t have any suggestions\", \"sungit po ng babae sa canteen\",\n",
        "    \"Keep it up po mga staff smile \ud83d\ude01\", \"None\", \"Make internets work.\", \"nice\\r\\n\",\n",
        "    \"very good, but it could be better\", \"Make the toilets flush, pls.\", \"Nothing\",\n",
        "    \"Only the wifi:(\", \"No suggestions, Really\", \"meh\"\n",
        "]\n",
        "df = pd.DataFrame(suggestions, columns=['raw_suggestion'])"
      ]
    },
    {
      "cell_type": "code",
      "execution_count": null,
      "metadata": {},
      "outputs": [],
      "source": [
        "# Step 2: Define cleaning function\n",
        "import re\n",
        "\n",
        "def clean_suggestion(text):\n",
        "    text = text.strip().lower()\n",
        "    text = re.sub(r\"\\\\r|\\\\n|\\\\t|\\s+\", \" \", text)\n",
        "    text = re.sub(r\"[^a-zA-Z0-9\\s.,:;!?()'-]\", '', text)\n",
        "    return text.strip()"
      ]
    },
    {
      "cell_type": "code",
      "execution_count": null,
      "metadata": {},
      "outputs": [],
      "source": [
        "# Step 3: Apply cleaning\n",
        "df['cleaned_suggestion'] = df['raw_suggestion'].apply(clean_suggestion)"
      ]
    },
    {
      "cell_type": "code",
      "execution_count": null,
      "metadata": {},
      "outputs": [],
      "source": [
        "# Step 4: Filter out non-informative responses\n",
        "non_informative = set([\n",
        "    'no', 'none', 'n/a', 'nothing', 'na', 'n.a', 'non', '.', ',', '...', 'ok', 'okay', 'meh',\n",
        "    'no suggestions', 'no suggestion', 'none so far', 'nope', 'i do not know', 'idk', 'no thank you'\n",
        "])\n",
        "\n",
        "df['is_informative'] = ~df['cleaned_suggestion'].isin(non_informative)\n",
        "cleaned_df = df[df['is_informative']]"
      ]
    },
    {
      "cell_type": "code",
      "execution_count": null,
      "metadata": {},
      "outputs": [],
      "source": [
        "# Step 5: Export cleaned suggestions to CSV\n",
        "cleaned_df[['cleaned_suggestion']].to_csv('cleaned_suggestions.csv', index=False)\n",
        "print(\"Exported to cleaned_suggestions.csv\")"
      ]
    }
  ],
  "metadata": {
    "kernelspec": {
      "display_name": "Python 3",
      "language": "python",
      "name": "python3"
    },
    "language_info": {
      "name": "python",
      "version": "3.10"
    }
  },
  "nbformat": 4,
  "nbformat_minor": 2
}